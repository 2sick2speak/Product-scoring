{
 "cells": [
  {
   "cell_type": "code",
   "execution_count": null,
   "metadata": {
    "collapsed": false
   },
   "outputs": [],
   "source": [
    "import os\n",
    "\n",
    "from sqlalchemy import create_engine\n",
    "import pandas as pd\n",
    "from multiprocessing.dummy import Pool as ThreadPool\n",
    "\n",
    "from validator_helper import get_score\n",
    "from sql import *\n",
    "\n",
    "def get_engine():\n",
    "    return create_engine('mysql+pymysql://{user}:{passwd}@{host}/{db}?charset=utf8mb4'.format(\n",
    "        host='marketingdb-green',\n",
    "        user=os.environ.get('MARKETINGDB_USER'),\n",
    "        passwd=os.environ.get('MARKETINGDB_PASSWORD'),\n",
    "        db='bob_live_mx',\n",
    "    ))\n",
    "\n",
    "engine = get_engine()\n",
    "\n",
    "sql = '''\n",
    "    select id_catalog_config as id\n",
    "    from catalog_config\n",
    "    join items_activity on catalog_config.sku = items_activity.sku\n",
    "    where visible_in_shop = 1\n",
    "    limit 1000'''\n",
    "\n",
    "ids = [element.id for element in engine.execute(sql).fetchall()]\n",
    "\n",
    "print len(ids)\n",
    "\n",
    "\n",
    "pool = ThreadPool(16)\n",
    "\n",
    "def get_score_dict():\n",
    "    return pool.map(lambda x: get_score(x, engine), ids)\n",
    "\n",
    "    \n",
    "%time result = get_score_dict()\n",
    "\n",
    "\n",
    "pool.close()\n",
    "pool.join()\n",
    "\n",
    "print result"
   ]
  }
 ],
 "metadata": {
  "kernelspec": {
   "display_name": "Python 2",
   "language": "python",
   "name": "python2"
  },
  "language_info": {
   "codemirror_mode": {
    "name": "ipython",
    "version": 2
   },
   "file_extension": ".py",
   "mimetype": "text/x-python",
   "name": "python",
   "nbconvert_exporter": "python",
   "pygments_lexer": "ipython2",
   "version": "2.7.11"
  }
 },
 "nbformat": 4,
 "nbformat_minor": 0
}
